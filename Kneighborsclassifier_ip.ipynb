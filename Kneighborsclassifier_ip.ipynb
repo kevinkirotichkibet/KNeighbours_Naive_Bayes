{
  "nbformat": 4,
  "nbformat_minor": 0,
  "metadata": {
    "colab": {
      "name": "Kneighborsclassifier_ip.ipynb",
      "provenance": [],
      "collapsed_sections": []
    },
    "kernelspec": {
      "name": "python3",
      "display_name": "Python 3"
    },
    "language_info": {
      "name": "python"
    },
    "accelerator": "GPU"
  },
  "cells": [
    {
      "cell_type": "markdown",
      "metadata": {
        "id": "wz1KNkxy3b_b"
      },
      "source": [
        "# Titanic Prediction"
      ]
    },
    {
      "cell_type": "markdown",
      "metadata": {
        "id": "xuN_fPEE3gFl"
      },
      "source": [
        "# Data understanding"
      ]
    },
    {
      "cell_type": "markdown",
      "metadata": {
        "id": "SaE12kUQ3nDS"
      },
      "source": [
        "\n",
        "\n",
        "1.   Define the question\n",
        "Build a model to predict who is most likely to survive the titanic sinking\n",
        "2.   Metrics of Success\n",
        "The project will be considered successful if we are able to build a KNN classifier with a high accuracy greater than 80%\n",
        "3.   Understanding the context\n",
        "Titanic was amont the best ocean liners in the 1912. On its maiden voyage on 15th april 1912 it hit an iceberg leading to deaths of more than 1500 of 2240 passengers and crew on board\n",
        "\n",
        "4.   Experimental design\n",
        "The following steps will be followed during this exercise:\n",
        "\n",
        "\n",
        "    *   Data Understanding\n",
        "    *   Data Preparation\n",
        "    *   Data Cleaning\n",
        "    *   Perform EDA\n",
        "    *   Modelling with KNN\n",
        "    *   Evaluation\n",
        "    *   Challenging the solution\n",
        "5.   Data relevance\n",
        "    *   PassengerID: passenger's unique ID.\n",
        "    *   Survived(On train): whether a passenger survived(1) or not(0).\n",
        "    *   Pclass: Train class(1st, 2nd or 3rd)\n",
        "    *   Name: Passenger's name.\n",
        "    *   Sex: Passenger's sex.\n",
        "    *   Age: Passenger's age.(It is fractional if less than 1. If the age is estimated, is it in the form of xx.5)\n",
        "    *   SibSp: Number of siblings or spouse on board the Titanic. It defines family relations in this way:\n",
        "      *   Sibling = brother, sister, stepbrother, stepsister\n",
        "      *   Spouse = husband, wife (mistresses and fiancés were ignored)\n",
        "    *   Parch: Number of parents or children on board the Titanic. It defines family relations in this way:\n",
        "      *   Parent = mother, father\n",
        "      *   Child = daughter, son, stepdaughter, stepson. Some children travelled only with a nanny, therefore parch=0 for them.\n",
        "    *  Ticket: Ticket Number.\n",
        "Fare: Passenger fare.\n",
        "    *   Cabin: Cabin number.\n",
        "    *   Embarked: Point of Embarkation(C = Cherbourg, Q = Queenstown or S = Southampton)"
      ]
    },
    {
      "cell_type": "markdown",
      "metadata": {
        "id": "74ZHoGE0Dz24"
      },
      "source": [
        "# Data Preparation"
      ]
    },
    {
      "cell_type": "code",
      "metadata": {
        "id": "sZbmBMv935X6"
      },
      "source": [
        "# Import all necessary libraries. \n",
        "import pandas as pd\n",
        "import numpy as np\n",
        "import matplotlib.pyplot as plt\n",
        "import seaborn as sns\n",
        "from sklearn.preprocessing import StandardScaler\n",
        "from sklearn.model_selection import train_test_split\n",
        "from sklearn.linear_model import LogisticRegression\n",
        "from sklearn.discriminant_analysis import LinearDiscriminantAnalysis as LDA\n",
        "from sklearn.metrics import classification_report,confusion_matrix\n",
        "from sklearn.neighbors import KNeighborsClassifier\n",
        "from sklearn.model_selection import GridSearchCV\n",
        "from sklearn.ensemble import RandomForestClassifier\n",
        "from sklearn import metrics"
      ],
      "execution_count": 5,
      "outputs": []
    },
    {
      "cell_type": "code",
      "metadata": {
        "id": "GGEBgy9IElO6"
      },
      "source": [
        "#Read Datasets\n",
        "train = pd.read_csv('train (5).csv')\n",
        "test = pd.read_csv('test (1).csv')"
      ],
      "execution_count": 6,
      "outputs": []
    },
    {
      "cell_type": "code",
      "metadata": {
        "colab": {
          "base_uri": "https://localhost:8080/",
          "height": 272
        },
        "id": "FtD9YtzcF7dx",
        "outputId": "ec9dd7e7-4d88-4918-9fa9-0ecde37a10d6"
      },
      "source": [
        "#viewing our data\n",
        "train.head(5)"
      ],
      "execution_count": 7,
      "outputs": [
        {
          "output_type": "execute_result",
          "data": {
            "text/html": [
              "<div>\n",
              "<style scoped>\n",
              "    .dataframe tbody tr th:only-of-type {\n",
              "        vertical-align: middle;\n",
              "    }\n",
              "\n",
              "    .dataframe tbody tr th {\n",
              "        vertical-align: top;\n",
              "    }\n",
              "\n",
              "    .dataframe thead th {\n",
              "        text-align: right;\n",
              "    }\n",
              "</style>\n",
              "<table border=\"1\" class=\"dataframe\">\n",
              "  <thead>\n",
              "    <tr style=\"text-align: right;\">\n",
              "      <th></th>\n",
              "      <th>PassengerId</th>\n",
              "      <th>Survived</th>\n",
              "      <th>Pclass</th>\n",
              "      <th>Name</th>\n",
              "      <th>Sex</th>\n",
              "      <th>Age</th>\n",
              "      <th>SibSp</th>\n",
              "      <th>Parch</th>\n",
              "      <th>Ticket</th>\n",
              "      <th>Fare</th>\n",
              "      <th>Cabin</th>\n",
              "      <th>Embarked</th>\n",
              "    </tr>\n",
              "  </thead>\n",
              "  <tbody>\n",
              "    <tr>\n",
              "      <th>0</th>\n",
              "      <td>1</td>\n",
              "      <td>0</td>\n",
              "      <td>3</td>\n",
              "      <td>Braund, Mr. Owen Harris</td>\n",
              "      <td>male</td>\n",
              "      <td>22.0</td>\n",
              "      <td>1</td>\n",
              "      <td>0</td>\n",
              "      <td>A/5 21171</td>\n",
              "      <td>7.2500</td>\n",
              "      <td>NaN</td>\n",
              "      <td>S</td>\n",
              "    </tr>\n",
              "    <tr>\n",
              "      <th>1</th>\n",
              "      <td>2</td>\n",
              "      <td>1</td>\n",
              "      <td>1</td>\n",
              "      <td>Cumings, Mrs. John Bradley (Florence Briggs Th...</td>\n",
              "      <td>female</td>\n",
              "      <td>38.0</td>\n",
              "      <td>1</td>\n",
              "      <td>0</td>\n",
              "      <td>PC 17599</td>\n",
              "      <td>71.2833</td>\n",
              "      <td>C85</td>\n",
              "      <td>C</td>\n",
              "    </tr>\n",
              "    <tr>\n",
              "      <th>2</th>\n",
              "      <td>3</td>\n",
              "      <td>1</td>\n",
              "      <td>3</td>\n",
              "      <td>Heikkinen, Miss. Laina</td>\n",
              "      <td>female</td>\n",
              "      <td>26.0</td>\n",
              "      <td>0</td>\n",
              "      <td>0</td>\n",
              "      <td>STON/O2. 3101282</td>\n",
              "      <td>7.9250</td>\n",
              "      <td>NaN</td>\n",
              "      <td>S</td>\n",
              "    </tr>\n",
              "    <tr>\n",
              "      <th>3</th>\n",
              "      <td>4</td>\n",
              "      <td>1</td>\n",
              "      <td>1</td>\n",
              "      <td>Futrelle, Mrs. Jacques Heath (Lily May Peel)</td>\n",
              "      <td>female</td>\n",
              "      <td>35.0</td>\n",
              "      <td>1</td>\n",
              "      <td>0</td>\n",
              "      <td>113803</td>\n",
              "      <td>53.1000</td>\n",
              "      <td>C123</td>\n",
              "      <td>S</td>\n",
              "    </tr>\n",
              "    <tr>\n",
              "      <th>4</th>\n",
              "      <td>5</td>\n",
              "      <td>0</td>\n",
              "      <td>3</td>\n",
              "      <td>Allen, Mr. William Henry</td>\n",
              "      <td>male</td>\n",
              "      <td>35.0</td>\n",
              "      <td>0</td>\n",
              "      <td>0</td>\n",
              "      <td>373450</td>\n",
              "      <td>8.0500</td>\n",
              "      <td>NaN</td>\n",
              "      <td>S</td>\n",
              "    </tr>\n",
              "  </tbody>\n",
              "</table>\n",
              "</div>"
            ],
            "text/plain": [
              "   PassengerId  Survived  Pclass  ...     Fare Cabin  Embarked\n",
              "0            1         0       3  ...   7.2500   NaN         S\n",
              "1            2         1       1  ...  71.2833   C85         C\n",
              "2            3         1       3  ...   7.9250   NaN         S\n",
              "3            4         1       1  ...  53.1000  C123         S\n",
              "4            5         0       3  ...   8.0500   NaN         S\n",
              "\n",
              "[5 rows x 12 columns]"
            ]
          },
          "metadata": {},
          "execution_count": 7
        }
      ]
    },
    {
      "cell_type": "code",
      "metadata": {
        "colab": {
          "base_uri": "https://localhost:8080/",
          "height": 204
        },
        "id": "55hvasI1GAVS",
        "outputId": "8f6ea777-9c5e-450e-bc24-754757199182"
      },
      "source": [
        "test.head()"
      ],
      "execution_count": 8,
      "outputs": [
        {
          "output_type": "execute_result",
          "data": {
            "text/html": [
              "<div>\n",
              "<style scoped>\n",
              "    .dataframe tbody tr th:only-of-type {\n",
              "        vertical-align: middle;\n",
              "    }\n",
              "\n",
              "    .dataframe tbody tr th {\n",
              "        vertical-align: top;\n",
              "    }\n",
              "\n",
              "    .dataframe thead th {\n",
              "        text-align: right;\n",
              "    }\n",
              "</style>\n",
              "<table border=\"1\" class=\"dataframe\">\n",
              "  <thead>\n",
              "    <tr style=\"text-align: right;\">\n",
              "      <th></th>\n",
              "      <th>PassengerId</th>\n",
              "      <th>Pclass</th>\n",
              "      <th>Name</th>\n",
              "      <th>Sex</th>\n",
              "      <th>Age</th>\n",
              "      <th>SibSp</th>\n",
              "      <th>Parch</th>\n",
              "      <th>Ticket</th>\n",
              "      <th>Fare</th>\n",
              "      <th>Cabin</th>\n",
              "      <th>Embarked</th>\n",
              "    </tr>\n",
              "  </thead>\n",
              "  <tbody>\n",
              "    <tr>\n",
              "      <th>0</th>\n",
              "      <td>892</td>\n",
              "      <td>3</td>\n",
              "      <td>Kelly, Mr. James</td>\n",
              "      <td>male</td>\n",
              "      <td>34.5</td>\n",
              "      <td>0</td>\n",
              "      <td>0</td>\n",
              "      <td>330911</td>\n",
              "      <td>7.8292</td>\n",
              "      <td>NaN</td>\n",
              "      <td>Q</td>\n",
              "    </tr>\n",
              "    <tr>\n",
              "      <th>1</th>\n",
              "      <td>893</td>\n",
              "      <td>3</td>\n",
              "      <td>Wilkes, Mrs. James (Ellen Needs)</td>\n",
              "      <td>female</td>\n",
              "      <td>47.0</td>\n",
              "      <td>1</td>\n",
              "      <td>0</td>\n",
              "      <td>363272</td>\n",
              "      <td>7.0000</td>\n",
              "      <td>NaN</td>\n",
              "      <td>S</td>\n",
              "    </tr>\n",
              "    <tr>\n",
              "      <th>2</th>\n",
              "      <td>894</td>\n",
              "      <td>2</td>\n",
              "      <td>Myles, Mr. Thomas Francis</td>\n",
              "      <td>male</td>\n",
              "      <td>62.0</td>\n",
              "      <td>0</td>\n",
              "      <td>0</td>\n",
              "      <td>240276</td>\n",
              "      <td>9.6875</td>\n",
              "      <td>NaN</td>\n",
              "      <td>Q</td>\n",
              "    </tr>\n",
              "    <tr>\n",
              "      <th>3</th>\n",
              "      <td>895</td>\n",
              "      <td>3</td>\n",
              "      <td>Wirz, Mr. Albert</td>\n",
              "      <td>male</td>\n",
              "      <td>27.0</td>\n",
              "      <td>0</td>\n",
              "      <td>0</td>\n",
              "      <td>315154</td>\n",
              "      <td>8.6625</td>\n",
              "      <td>NaN</td>\n",
              "      <td>S</td>\n",
              "    </tr>\n",
              "    <tr>\n",
              "      <th>4</th>\n",
              "      <td>896</td>\n",
              "      <td>3</td>\n",
              "      <td>Hirvonen, Mrs. Alexander (Helga E Lindqvist)</td>\n",
              "      <td>female</td>\n",
              "      <td>22.0</td>\n",
              "      <td>1</td>\n",
              "      <td>1</td>\n",
              "      <td>3101298</td>\n",
              "      <td>12.2875</td>\n",
              "      <td>NaN</td>\n",
              "      <td>S</td>\n",
              "    </tr>\n",
              "  </tbody>\n",
              "</table>\n",
              "</div>"
            ],
            "text/plain": [
              "   PassengerId  Pclass  ... Cabin Embarked\n",
              "0          892       3  ...   NaN        Q\n",
              "1          893       3  ...   NaN        S\n",
              "2          894       2  ...   NaN        Q\n",
              "3          895       3  ...   NaN        S\n",
              "4          896       3  ...   NaN        S\n",
              "\n",
              "[5 rows x 11 columns]"
            ]
          },
          "metadata": {},
          "execution_count": 8
        }
      ]
    },
    {
      "cell_type": "code",
      "metadata": {
        "colab": {
          "base_uri": "https://localhost:8080/"
        },
        "id": "ci1WLtMVGFb7",
        "outputId": "12b08369-37ff-40d7-ca75-ce4a384dc616"
      },
      "source": [
        "#Reading data info\n",
        "train.info()"
      ],
      "execution_count": 9,
      "outputs": [
        {
          "output_type": "stream",
          "name": "stdout",
          "text": [
            "<class 'pandas.core.frame.DataFrame'>\n",
            "RangeIndex: 891 entries, 0 to 890\n",
            "Data columns (total 12 columns):\n",
            " #   Column       Non-Null Count  Dtype  \n",
            "---  ------       --------------  -----  \n",
            " 0   PassengerId  891 non-null    int64  \n",
            " 1   Survived     891 non-null    int64  \n",
            " 2   Pclass       891 non-null    int64  \n",
            " 3   Name         891 non-null    object \n",
            " 4   Sex          891 non-null    object \n",
            " 5   Age          714 non-null    float64\n",
            " 6   SibSp        891 non-null    int64  \n",
            " 7   Parch        891 non-null    int64  \n",
            " 8   Ticket       891 non-null    object \n",
            " 9   Fare         891 non-null    float64\n",
            " 10  Cabin        204 non-null    object \n",
            " 11  Embarked     889 non-null    object \n",
            "dtypes: float64(2), int64(5), object(5)\n",
            "memory usage: 83.7+ KB\n"
          ]
        }
      ]
    },
    {
      "cell_type": "code",
      "metadata": {
        "colab": {
          "base_uri": "https://localhost:8080/"
        },
        "id": "unQ4IFIgG9EI",
        "outputId": "a459dac8-98c4-44db-c8e0-62563a1177d5"
      },
      "source": [
        "test.info()"
      ],
      "execution_count": 10,
      "outputs": [
        {
          "output_type": "stream",
          "name": "stdout",
          "text": [
            "<class 'pandas.core.frame.DataFrame'>\n",
            "RangeIndex: 418 entries, 0 to 417\n",
            "Data columns (total 11 columns):\n",
            " #   Column       Non-Null Count  Dtype  \n",
            "---  ------       --------------  -----  \n",
            " 0   PassengerId  418 non-null    int64  \n",
            " 1   Pclass       418 non-null    int64  \n",
            " 2   Name         418 non-null    object \n",
            " 3   Sex          418 non-null    object \n",
            " 4   Age          332 non-null    float64\n",
            " 5   SibSp        418 non-null    int64  \n",
            " 6   Parch        418 non-null    int64  \n",
            " 7   Ticket       418 non-null    object \n",
            " 8   Fare         417 non-null    float64\n",
            " 9   Cabin        91 non-null     object \n",
            " 10  Embarked     418 non-null    object \n",
            "dtypes: float64(2), int64(4), object(5)\n",
            "memory usage: 36.0+ KB\n"
          ]
        }
      ]
    },
    {
      "cell_type": "code",
      "metadata": {
        "colab": {
          "base_uri": "https://localhost:8080/"
        },
        "id": "WKEvIxfhG-ls",
        "outputId": "95520945-50a2-4a00-b49e-89ed1be94357"
      },
      "source": [
        "print(train.shape)\n",
        "print(test.shape)"
      ],
      "execution_count": 11,
      "outputs": [
        {
          "output_type": "stream",
          "name": "stdout",
          "text": [
            "(891, 12)\n",
            "(418, 11)\n"
          ]
        }
      ]
    },
    {
      "cell_type": "code",
      "metadata": {
        "colab": {
          "base_uri": "https://localhost:8080/"
        },
        "id": "2kYV4TUbHGTm",
        "outputId": "bc46e43d-f338-4a59-ab51-cbfacb9fa4d4"
      },
      "source": [
        "print(train['PassengerId'].nunique())\n",
        "print(test['PassengerId'].nunique())"
      ],
      "execution_count": 12,
      "outputs": [
        {
          "output_type": "stream",
          "name": "stdout",
          "text": [
            "891\n",
            "418\n"
          ]
        }
      ]
    },
    {
      "cell_type": "code",
      "metadata": {
        "id": "k4xJoLOXHS1j"
      },
      "source": [
        "#since Passenger ID is unique we set it as our index\n",
        "train =train.set_index('PassengerId')\n",
        "test = test.set_index('PassengerId')"
      ],
      "execution_count": 13,
      "outputs": []
    },
    {
      "cell_type": "code",
      "metadata": {
        "colab": {
          "base_uri": "https://localhost:8080/"
        },
        "id": "JgyqJkOkIPRr",
        "outputId": "3388df21-54d4-4ac2-80c8-03450eb05f66"
      },
      "source": [
        "train.info()"
      ],
      "execution_count": 14,
      "outputs": [
        {
          "output_type": "stream",
          "name": "stdout",
          "text": [
            "<class 'pandas.core.frame.DataFrame'>\n",
            "Int64Index: 891 entries, 1 to 891\n",
            "Data columns (total 11 columns):\n",
            " #   Column    Non-Null Count  Dtype  \n",
            "---  ------    --------------  -----  \n",
            " 0   Survived  891 non-null    int64  \n",
            " 1   Pclass    891 non-null    int64  \n",
            " 2   Name      891 non-null    object \n",
            " 3   Sex       891 non-null    object \n",
            " 4   Age       714 non-null    float64\n",
            " 5   SibSp     891 non-null    int64  \n",
            " 6   Parch     891 non-null    int64  \n",
            " 7   Ticket    891 non-null    object \n",
            " 8   Fare      891 non-null    float64\n",
            " 9   Cabin     204 non-null    object \n",
            " 10  Embarked  889 non-null    object \n",
            "dtypes: float64(2), int64(4), object(5)\n",
            "memory usage: 83.5+ KB\n"
          ]
        }
      ]
    },
    {
      "cell_type": "code",
      "metadata": {
        "colab": {
          "base_uri": "https://localhost:8080/"
        },
        "id": "ZckKFlTyInhu",
        "outputId": "6d1616f3-6305-44b4-df68-79f344c91b31"
      },
      "source": [
        "test.info()"
      ],
      "execution_count": 15,
      "outputs": [
        {
          "output_type": "stream",
          "name": "stdout",
          "text": [
            "<class 'pandas.core.frame.DataFrame'>\n",
            "Int64Index: 418 entries, 892 to 1309\n",
            "Data columns (total 10 columns):\n",
            " #   Column    Non-Null Count  Dtype  \n",
            "---  ------    --------------  -----  \n",
            " 0   Pclass    418 non-null    int64  \n",
            " 1   Name      418 non-null    object \n",
            " 2   Sex       418 non-null    object \n",
            " 3   Age       332 non-null    float64\n",
            " 4   SibSp     418 non-null    int64  \n",
            " 5   Parch     418 non-null    int64  \n",
            " 6   Ticket    418 non-null    object \n",
            " 7   Fare      417 non-null    float64\n",
            " 8   Cabin     91 non-null     object \n",
            " 9   Embarked  418 non-null    object \n",
            "dtypes: float64(2), int64(3), object(5)\n",
            "memory usage: 35.9+ KB\n"
          ]
        }
      ]
    },
    {
      "cell_type": "markdown",
      "metadata": {
        "id": "4AcNlJi3I5ah"
      },
      "source": [
        "Our datasets have appropriate datatypes"
      ]
    },
    {
      "cell_type": "markdown",
      "metadata": {
        "id": "jI9AwwWGJLGi"
      },
      "source": [
        "## Data Cleaning"
      ]
    },
    {
      "cell_type": "code",
      "metadata": {
        "colab": {
          "base_uri": "https://localhost:8080/"
        },
        "id": "b5h2Xv_WI-vp",
        "outputId": "98be0ebe-1ff7-48cc-8f8c-cc2c1b0029f0"
      },
      "source": [
        "#previewing column names\n",
        "print(train.columns)\n",
        "print(test.columns)"
      ],
      "execution_count": 16,
      "outputs": [
        {
          "output_type": "stream",
          "name": "stdout",
          "text": [
            "Index(['Survived', 'Pclass', 'Name', 'Sex', 'Age', 'SibSp', 'Parch', 'Ticket',\n",
            "       'Fare', 'Cabin', 'Embarked'],\n",
            "      dtype='object')\n",
            "Index(['Pclass', 'Name', 'Sex', 'Age', 'SibSp', 'Parch', 'Ticket', 'Fare',\n",
            "       'Cabin', 'Embarked'],\n",
            "      dtype='object')\n"
          ]
        }
      ]
    },
    {
      "cell_type": "code",
      "metadata": {
        "colab": {
          "base_uri": "https://localhost:8080/"
        },
        "id": "ikD4f4qbJbtA",
        "outputId": "77e72a77-5bf5-4abf-9729-b964eb937944"
      },
      "source": [
        "#Change column names to lowercase\n",
        "\n",
        "train.columns = train.columns.str.lower()\n",
        "test.columns = test.columns.str.lower()\n",
        "\n",
        "# preview to confirm conversion\n",
        "print(train.columns)\n",
        "print(test.columns)"
      ],
      "execution_count": 17,
      "outputs": [
        {
          "output_type": "stream",
          "name": "stdout",
          "text": [
            "Index(['survived', 'pclass', 'name', 'sex', 'age', 'sibsp', 'parch', 'ticket',\n",
            "       'fare', 'cabin', 'embarked'],\n",
            "      dtype='object')\n",
            "Index(['pclass', 'name', 'sex', 'age', 'sibsp', 'parch', 'ticket', 'fare',\n",
            "       'cabin', 'embarked'],\n",
            "      dtype='object')\n"
          ]
        }
      ]
    },
    {
      "cell_type": "markdown",
      "metadata": {
        "id": "jfMCQjIyKLIi"
      },
      "source": [
        "Check for missing values"
      ]
    },
    {
      "cell_type": "code",
      "metadata": {
        "colab": {
          "base_uri": "https://localhost:8080/"
        },
        "id": "O8lo_kooJ0_5",
        "outputId": "ea113e82-24dd-4a94-fb57-3a1401d00dce"
      },
      "source": [
        "print(train.isna().sum())\n",
        "print('\\n******************\\n')\n",
        "print(train.isna().sum())"
      ],
      "execution_count": 18,
      "outputs": [
        {
          "output_type": "stream",
          "name": "stdout",
          "text": [
            "survived      0\n",
            "pclass        0\n",
            "name          0\n",
            "sex           0\n",
            "age         177\n",
            "sibsp         0\n",
            "parch         0\n",
            "ticket        0\n",
            "fare          0\n",
            "cabin       687\n",
            "embarked      2\n",
            "dtype: int64\n",
            "\n",
            "******************\n",
            "\n",
            "survived      0\n",
            "pclass        0\n",
            "name          0\n",
            "sex           0\n",
            "age         177\n",
            "sibsp         0\n",
            "parch         0\n",
            "ticket        0\n",
            "fare          0\n",
            "cabin       687\n",
            "embarked      2\n",
            "dtype: int64\n"
          ]
        }
      ]
    },
    {
      "cell_type": "markdown",
      "metadata": {
        "id": "vB-XdSKNKtaC"
      },
      "source": [
        "Our data has a lot of missing values on the age and cabin columns and dropping it will lead to lose of a lot of data. hence we will only drop the embarked and fare missing values "
      ]
    },
    {
      "cell_type": "code",
      "metadata": {
        "id": "Qkg9kOQ8Lc84"
      },
      "source": [
        "#dropping embarked missing values in the train and test datasets\n",
        "\n",
        "train = train.dropna(subset=['embarked'])\n",
        "test = test.dropna(subset=['embarked'])\n",
        "test = test.dropna(subset = ['fare'])"
      ],
      "execution_count": 19,
      "outputs": []
    },
    {
      "cell_type": "markdown",
      "metadata": {
        "id": "-VJGS6hbML9L"
      },
      "source": [
        "boxplot"
      ]
    },
    {
      "cell_type": "code",
      "metadata": {
        "colab": {
          "base_uri": "https://localhost:8080/",
          "height": 568
        },
        "id": "kunGX92OMA0J",
        "outputId": "99e1ae33-f76b-49ae-b33b-895b2cf76c55"
      },
      "source": [
        "# Boxplot for age in train dataset\n",
        "\n",
        "fig, ax = plt.subplots(figsize=(10,8))\n",
        "sns.boxplot(train.age)"
      ],
      "execution_count": 20,
      "outputs": [
        {
          "output_type": "stream",
          "name": "stderr",
          "text": [
            "/usr/local/lib/python3.7/dist-packages/seaborn/_decorators.py:43: FutureWarning: Pass the following variable as a keyword arg: x. From version 0.12, the only valid positional argument will be `data`, and passing other arguments without an explicit keyword will result in an error or misinterpretation.\n",
            "  FutureWarning\n"
          ]
        },
        {
          "output_type": "execute_result",
          "data": {
            "text/plain": [
              "<matplotlib.axes._subplots.AxesSubplot at 0x7f820ad50090>"
            ]
          },
          "metadata": {},
          "execution_count": 20
        },
        {
          "output_type": "display_data",
          "data": {
            "image/png": "[encoded data removed]",
            "text/plain": [
              "<Figure size 720x576 with 1 Axes>"
            ]
          },
          "metadata": {
            "needs_background": "light"
          }
        }
      ]
    },
    {
      "cell_type": "code",
      "metadata": {
        "colab": {
          "base_uri": "https://localhost:8080/",
          "height": 568
        },
        "id": "ggY4vdtkM0-B",
        "outputId": "c9b73eda-9e02-401d-f6ab-ef722057bdf8"
      },
      "source": [
        "# Boxplot for age in test dataset\n",
        "\n",
        "fig, ax = plt.subplots(figsize=(10,8))\n",
        "sns.boxplot(test.age)"
      ],
      "execution_count": 21,
      "outputs": [
        {
          "output_type": "stream",
          "name": "stderr",
          "text": [
            "/usr/local/lib/python3.7/dist-packages/seaborn/_decorators.py:43: FutureWarning: Pass the following variable as a keyword arg: x. From version 0.12, the only valid positional argument will be `data`, and passing other arguments without an explicit keyword will result in an error or misinterpretation.\n",
            "  FutureWarning\n"
          ]
        },
        {
          "output_type": "execute_result",
          "data": {
            "text/plain": [
              "<matplotlib.axes._subplots.AxesSubplot at 0x7f820a206690>"
            ]
          },
          "metadata": {},
          "execution_count": 21
        },
        {
          "output_type": "display_data",
          "data": {
            "image/png": "[encoded data removed]",
            "text/plain": [
              "<Figure size 720x576 with 1 Axes>"
            ]
          },
          "metadata": {
            "needs_background": "light"
          }
        }
      ]
    },
    {
      "cell_type": "code",
      "metadata": {
        "colab": {
          "base_uri": "https://localhost:8080/"
        },
        "id": "BDXgQkOKP34N",
        "outputId": "f8503a28-43f2-469b-c66b-de0bb8296392"
      },
      "source": [
        "#impute the mean of age column\n",
        "train['age'].fillna(train[\"age\"].mean(), inplace=True)\n",
        "test['age'].fillna(test[\"age\"].mean(), inplace=True)\n",
        "\n",
        "#check for missing values\n",
        "print(train.isna().sum())\n",
        "print(test.isna().sum())"
      ],
      "execution_count": 22,
      "outputs": [
        {
          "output_type": "stream",
          "name": "stdout",
          "text": [
            "survived      0\n",
            "pclass        0\n",
            "name          0\n",
            "sex           0\n",
            "age           0\n",
            "sibsp         0\n",
            "parch         0\n",
            "ticket        0\n",
            "fare          0\n",
            "cabin       687\n",
            "embarked      0\n",
            "dtype: int64\n",
            "pclass        0\n",
            "name          0\n",
            "sex           0\n",
            "age           0\n",
            "sibsp         0\n",
            "parch         0\n",
            "ticket        0\n",
            "fare          0\n",
            "cabin       326\n",
            "embarked      0\n",
            "dtype: int64\n"
          ]
        }
      ]
    },
    {
      "cell_type": "markdown",
      "metadata": {
        "id": "4a79evKSQlid"
      },
      "source": [
        "Both cabin and pclass gives us information about the passenger social class hence we can drop it"
      ]
    },
    {
      "cell_type": "code",
      "metadata": {
        "colab": {
          "base_uri": "https://localhost:8080/",
          "height": 484
        },
        "id": "Y9kBgxSXNSWU",
        "outputId": "d83a8e5d-f9c1-4e6c-e2b8-8a0878976b1b"
      },
      "source": [
        "#drop cabin column \n",
        "train.drop(['cabin'],axis=1)\n",
        "test.drop(['cabin'],axis=1)\n"
      ],
      "execution_count": 23,
      "outputs": [
        {
          "output_type": "execute_result",
          "data": {
            "text/html": [
              "<div>\n",
              "<style scoped>\n",
              "    .dataframe tbody tr th:only-of-type {\n",
              "        vertical-align: middle;\n",
              "    }\n",
              "\n",
              "    .dataframe tbody tr th {\n",
              "        vertical-align: top;\n",
              "    }\n",
              "\n",
              "    .dataframe thead th {\n",
              "        text-align: right;\n",
              "    }\n",
              "</style>\n",
              "<table border=\"1\" class=\"dataframe\">\n",
              "  <thead>\n",
              "    <tr style=\"text-align: right;\">\n",
              "      <th></th>\n",
              "      <th>pclass</th>\n",
              "      <th>name</th>\n",
              "      <th>sex</th>\n",
              "      <th>age</th>\n",
              "      <th>sibsp</th>\n",
              "      <th>parch</th>\n",
              "      <th>ticket</th>\n",
              "      <th>fare</th>\n",
              "      <th>embarked</th>\n",
              "    </tr>\n",
              "    <tr>\n",
              "      <th>PassengerId</th>\n",
              "      <th></th>\n",
              "      <th></th>\n",
              "      <th></th>\n",
              "      <th></th>\n",
              "      <th></th>\n",
              "      <th></th>\n",
              "      <th></th>\n",
              "      <th></th>\n",
              "      <th></th>\n",
              "    </tr>\n",
              "  </thead>\n",
              "  <tbody>\n",
              "    <tr>\n",
              "      <th>892</th>\n",
              "      <td>3</td>\n",
              "      <td>Kelly, Mr. James</td>\n",
              "      <td>male</td>\n",
              "      <td>34.500000</td>\n",
              "      <td>0</td>\n",
              "      <td>0</td>\n",
              "      <td>330911</td>\n",
              "      <td>7.8292</td>\n",
              "      <td>Q</td>\n",
              "    </tr>\n",
              "    <tr>\n",
              "      <th>893</th>\n",
              "      <td>3</td>\n",
              "      <td>Wilkes, Mrs. James (Ellen Needs)</td>\n",
              "      <td>female</td>\n",
              "      <td>47.000000</td>\n",
              "      <td>1</td>\n",
              "      <td>0</td>\n",
              "      <td>363272</td>\n",
              "      <td>7.0000</td>\n",
              "      <td>S</td>\n",
              "    </tr>\n",
              "    <tr>\n",
              "      <th>894</th>\n",
              "      <td>2</td>\n",
              "      <td>Myles, Mr. Thomas Francis</td>\n",
              "      <td>male</td>\n",
              "      <td>62.000000</td>\n",
              "      <td>0</td>\n",
              "      <td>0</td>\n",
              "      <td>240276</td>\n",
              "      <td>9.6875</td>\n",
              "      <td>Q</td>\n",
              "    </tr>\n",
              "    <tr>\n",
              "      <th>895</th>\n",
              "      <td>3</td>\n",
              "      <td>Wirz, Mr. Albert</td>\n",
              "      <td>male</td>\n",
              "      <td>27.000000</td>\n",
              "      <td>0</td>\n",
              "      <td>0</td>\n",
              "      <td>315154</td>\n",
              "      <td>8.6625</td>\n",
              "      <td>S</td>\n",
              "    </tr>\n",
              "    <tr>\n",
              "      <th>896</th>\n",
              "      <td>3</td>\n",
              "      <td>Hirvonen, Mrs. Alexander (Helga E Lindqvist)</td>\n",
              "      <td>female</td>\n",
              "      <td>22.000000</td>\n",
              "      <td>1</td>\n",
              "      <td>1</td>\n",
              "      <td>3101298</td>\n",
              "      <td>12.2875</td>\n",
              "      <td>S</td>\n",
              "    </tr>\n",
              "    <tr>\n",
              "      <th>...</th>\n",
              "      <td>...</td>\n",
              "      <td>...</td>\n",
              "      <td>...</td>\n",
              "      <td>...</td>\n",
              "      <td>...</td>\n",
              "      <td>...</td>\n",
              "      <td>...</td>\n",
              "      <td>...</td>\n",
              "      <td>...</td>\n",
              "    </tr>\n",
              "    <tr>\n",
              "      <th>1305</th>\n",
              "      <td>3</td>\n",
              "      <td>Spector, Mr. Woolf</td>\n",
              "      <td>male</td>\n",
              "      <td>30.181269</td>\n",
              "      <td>0</td>\n",
              "      <td>0</td>\n",
              "      <td>A.5. 3236</td>\n",
              "      <td>8.0500</td>\n",
              "      <td>S</td>\n",
              "    </tr>\n",
              "    <tr>\n",
              "      <th>1306</th>\n",
              "      <td>1</td>\n",
              "      <td>Oliva y Ocana, Dona. Fermina</td>\n",
              "      <td>female</td>\n",
              "      <td>39.000000</td>\n",
              "      <td>0</td>\n",
              "      <td>0</td>\n",
              "      <td>PC 17758</td>\n",
              "      <td>108.9000</td>\n",
              "      <td>C</td>\n",
              "    </tr>\n",
              "    <tr>\n",
              "      <th>1307</th>\n",
              "      <td>3</td>\n",
              "      <td>Saether, Mr. Simon Sivertsen</td>\n",
              "      <td>male</td>\n",
              "      <td>38.500000</td>\n",
              "      <td>0</td>\n",
              "      <td>0</td>\n",
              "      <td>SOTON/O.Q. 3101262</td>\n",
              "      <td>7.2500</td>\n",
              "      <td>S</td>\n",
              "    </tr>\n",
              "    <tr>\n",
              "      <th>1308</th>\n",
              "      <td>3</td>\n",
              "      <td>Ware, Mr. Frederick</td>\n",
              "      <td>male</td>\n",
              "      <td>30.181269</td>\n",
              "      <td>0</td>\n",
              "      <td>0</td>\n",
              "      <td>359309</td>\n",
              "      <td>8.0500</td>\n",
              "      <td>S</td>\n",
              "    </tr>\n",
              "    <tr>\n",
              "      <th>1309</th>\n",
              "      <td>3</td>\n",
              "      <td>Peter, Master. Michael J</td>\n",
              "      <td>male</td>\n",
              "      <td>30.181269</td>\n",
              "      <td>1</td>\n",
              "      <td>1</td>\n",
              "      <td>2668</td>\n",
              "      <td>22.3583</td>\n",
              "      <td>C</td>\n",
              "    </tr>\n",
              "  </tbody>\n",
              "</table>\n",
              "<p>417 rows × 9 columns</p>\n",
              "</div>"
            ],
            "text/plain": [
              "             pclass  ... embarked\n",
              "PassengerId          ...         \n",
              "892               3  ...        Q\n",
              "893               3  ...        S\n",
              "894               2  ...        Q\n",
              "895               3  ...        S\n",
              "896               3  ...        S\n",
              "...             ...  ...      ...\n",
              "1305              3  ...        S\n",
              "1306              1  ...        C\n",
              "1307              3  ...        S\n",
              "1308              3  ...        S\n",
              "1309              3  ...        C\n",
              "\n",
              "[417 rows x 9 columns]"
            ]
          },
          "metadata": {},
          "execution_count": 23
        }
      ]
    },
    {
      "cell_type": "markdown",
      "metadata": {
        "id": "EG_sMZGqRLV1"
      },
      "source": [
        "Check for duplicates"
      ]
    },
    {
      "cell_type": "code",
      "metadata": {
        "colab": {
          "base_uri": "https://localhost:8080/"
        },
        "id": "FXm8fJNNRDzm",
        "outputId": "f9a00ae6-71e9-4392-d7a9-2cfe04f67d61"
      },
      "source": [
        "#Check duplicated data\n",
        "print(train.duplicated().sum())\n",
        "print(test.duplicated().sum())"
      ],
      "execution_count": 24,
      "outputs": [
        {
          "output_type": "stream",
          "name": "stdout",
          "text": [
            "0\n",
            "0\n"
          ]
        }
      ]
    },
    {
      "cell_type": "markdown",
      "metadata": {
        "id": "vzH7ttxOU0Hf"
      },
      "source": [
        "There are no duplicates"
      ]
    },
    {
      "cell_type": "markdown",
      "metadata": {
        "id": "bq0uxp-PVEEI"
      },
      "source": [
        "### Feature Engineering"
      ]
    },
    {
      "cell_type": "code",
      "metadata": {
        "id": "41-ri0UDPliC"
      },
      "source": [
        "#Lets find the size of family individuals had from the number of siblings they had onboard\n",
        "#we will add 1 to account for the individual\n",
        "train['family_size'] = train['sibsp'] + train['parch'] + 1\n",
        "test['family_size'] = test['sibsp'] + test['parch'] + 1"
      ],
      "execution_count": 25,
      "outputs": []
    },
    {
      "cell_type": "code",
      "metadata": {
        "id": "a2Luka6lXFgU"
      },
      "source": [
        "#The embarktion destination is ininitial. we will have to convert it to their full names\n",
        "\n",
        "train['embarked'] = train['embarked'].replace(['C','Q','S'],['Cherbough','Queenstown','Southampton'])\n",
        "test['embarked'] = test['embarked'].replace(['C','Q','S'],['Cherbough','Queenstown','Southampton'])"
      ],
      "execution_count": 26,
      "outputs": []
    },
    {
      "cell_type": "code",
      "metadata": {
        "id": "Sg-MAl25X7U8"
      },
      "source": [
        "#drop irrelevant columns\n",
        "train = train.drop(['name', 'sibsp', 'parch', 'cabin', 'ticket'], axis = 1)\n",
        "test = test.drop(['name', 'sibsp', 'parch', 'cabin', 'ticket'],axis = 1)"
      ],
      "execution_count": 27,
      "outputs": []
    },
    {
      "cell_type": "code",
      "metadata": {
        "colab": {
          "base_uri": "https://localhost:8080/",
          "height": 173
        },
        "id": "2CuTGnMaYXRh",
        "outputId": "bfa0f2ab-6cf1-4ff5-a871-6ca3a0d89adc"
      },
      "source": [
        "#preview our data\n",
        "train.head(3)"
      ],
      "execution_count": 28,
      "outputs": [
        {
          "output_type": "execute_result",
          "data": {
            "text/html": [
              "<div>\n",
              "<style scoped>\n",
              "    .dataframe tbody tr th:only-of-type {\n",
              "        vertical-align: middle;\n",
              "    }\n",
              "\n",
              "    .dataframe tbody tr th {\n",
              "        vertical-align: top;\n",
              "    }\n",
              "\n",
              "    .dataframe thead th {\n",
              "        text-align: right;\n",
              "    }\n",
              "</style>\n",
              "<table border=\"1\" class=\"dataframe\">\n",
              "  <thead>\n",
              "    <tr style=\"text-align: right;\">\n",
              "      <th></th>\n",
              "      <th>survived</th>\n",
              "      <th>pclass</th>\n",
              "      <th>sex</th>\n",
              "      <th>age</th>\n",
              "      <th>fare</th>\n",
              "      <th>embarked</th>\n",
              "      <th>family_size</th>\n",
              "    </tr>\n",
              "    <tr>\n",
              "      <th>PassengerId</th>\n",
              "      <th></th>\n",
              "      <th></th>\n",
              "      <th></th>\n",
              "      <th></th>\n",
              "      <th></th>\n",
              "      <th></th>\n",
              "      <th></th>\n",
              "    </tr>\n",
              "  </thead>\n",
              "  <tbody>\n",
              "    <tr>\n",
              "      <th>1</th>\n",
              "      <td>0</td>\n",
              "      <td>3</td>\n",
              "      <td>male</td>\n",
              "      <td>22.0</td>\n",
              "      <td>7.2500</td>\n",
              "      <td>Southampton</td>\n",
              "      <td>2</td>\n",
              "    </tr>\n",
              "    <tr>\n",
              "      <th>2</th>\n",
              "      <td>1</td>\n",
              "      <td>1</td>\n",
              "      <td>female</td>\n",
              "      <td>38.0</td>\n",
              "      <td>71.2833</td>\n",
              "      <td>Cherbough</td>\n",
              "      <td>2</td>\n",
              "    </tr>\n",
              "    <tr>\n",
              "      <th>3</th>\n",
              "      <td>1</td>\n",
              "      <td>3</td>\n",
              "      <td>female</td>\n",
              "      <td>26.0</td>\n",
              "      <td>7.9250</td>\n",
              "      <td>Southampton</td>\n",
              "      <td>1</td>\n",
              "    </tr>\n",
              "  </tbody>\n",
              "</table>\n",
              "</div>"
            ],
            "text/plain": [
              "             survived  pclass     sex   age     fare     embarked  family_size\n",
              "PassengerId                                                                   \n",
              "1                   0       3    male  22.0   7.2500  Southampton            2\n",
              "2                   1       1  female  38.0  71.2833    Cherbough            2\n",
              "3                   1       3  female  26.0   7.9250  Southampton            1"
            ]
          },
          "metadata": {},
          "execution_count": 28
        }
      ]
    },
    {
      "cell_type": "code",
      "metadata": {
        "colab": {
          "base_uri": "https://localhost:8080/",
          "height": 173
        },
        "id": "GJu7XQmrYc--",
        "outputId": "9fb18043-9fd5-4a90-da09-11fb80e11951"
      },
      "source": [
        "test.head(3)"
      ],
      "execution_count": 29,
      "outputs": [
        {
          "output_type": "execute_result",
          "data": {
            "text/html": [
              "<div>\n",
              "<style scoped>\n",
              "    .dataframe tbody tr th:only-of-type {\n",
              "        vertical-align: middle;\n",
              "    }\n",
              "\n",
              "    .dataframe tbody tr th {\n",
              "        vertical-align: top;\n",
              "    }\n",
              "\n",
              "    .dataframe thead th {\n",
              "        text-align: right;\n",
              "    }\n",
              "</style>\n",
              "<table border=\"1\" class=\"dataframe\">\n",
              "  <thead>\n",
              "    <tr style=\"text-align: right;\">\n",
              "      <th></th>\n",
              "      <th>pclass</th>\n",
              "      <th>sex</th>\n",
              "      <th>age</th>\n",
              "      <th>fare</th>\n",
              "      <th>embarked</th>\n",
              "      <th>family_size</th>\n",
              "    </tr>\n",
              "    <tr>\n",
              "      <th>PassengerId</th>\n",
              "      <th></th>\n",
              "      <th></th>\n",
              "      <th></th>\n",
              "      <th></th>\n",
              "      <th></th>\n",
              "      <th></th>\n",
              "    </tr>\n",
              "  </thead>\n",
              "  <tbody>\n",
              "    <tr>\n",
              "      <th>892</th>\n",
              "      <td>3</td>\n",
              "      <td>male</td>\n",
              "      <td>34.5</td>\n",
              "      <td>7.8292</td>\n",
              "      <td>Queenstown</td>\n",
              "      <td>1</td>\n",
              "    </tr>\n",
              "    <tr>\n",
              "      <th>893</th>\n",
              "      <td>3</td>\n",
              "      <td>female</td>\n",
              "      <td>47.0</td>\n",
              "      <td>7.0000</td>\n",
              "      <td>Southampton</td>\n",
              "      <td>2</td>\n",
              "    </tr>\n",
              "    <tr>\n",
              "      <th>894</th>\n",
              "      <td>2</td>\n",
              "      <td>male</td>\n",
              "      <td>62.0</td>\n",
              "      <td>9.6875</td>\n",
              "      <td>Queenstown</td>\n",
              "      <td>1</td>\n",
              "    </tr>\n",
              "  </tbody>\n",
              "</table>\n",
              "</div>"
            ],
            "text/plain": [
              "             pclass     sex   age    fare     embarked  family_size\n",
              "PassengerId                                                        \n",
              "892               3    male  34.5  7.8292   Queenstown            1\n",
              "893               3  female  47.0  7.0000  Southampton            2\n",
              "894               2    male  62.0  9.6875   Queenstown            1"
            ]
          },
          "metadata": {},
          "execution_count": 29
        }
      ]
    },
    {
      "cell_type": "markdown",
      "metadata": {
        "id": "E4N4jTj3YjCR"
      },
      "source": [
        "# Exploratory Data Analysis\n",
        "\n",
        "### Univarite analysis"
      ]
    },
    {
      "cell_type": "markdown",
      "metadata": {
        "id": "dGvcQW01Ytpx"
      },
      "source": [
        "Measure of central tendancy"
      ]
    },
    {
      "cell_type": "code",
      "metadata": {
        "colab": {
          "base_uri": "https://localhost:8080/"
        },
        "id": "5eOUaTW2Yf3e",
        "outputId": "51f2006a-0683-44dd-f23a-b648d64b0bbf"
      },
      "source": [
        "#Merge the two dataframes into one\n",
        "\n",
        "df = pd.concat([train,test],sort=False)\n",
        "df.shape"
      ],
      "execution_count": 30,
      "outputs": [
        {
          "output_type": "execute_result",
          "data": {
            "text/plain": [
              "(1306, 7)"
            ]
          },
          "metadata": {},
          "execution_count": 30
        }
      ]
    },
    {
      "cell_type": "code",
      "metadata": {
        "colab": {
          "base_uri": "https://localhost:8080/"
        },
        "id": "9YbyOohkZR5W",
        "outputId": "fa2b3938-79f1-45e8-ff56-d9f8245e7446"
      },
      "source": [
        "df.info()"
      ],
      "execution_count": 31,
      "outputs": [
        {
          "output_type": "stream",
          "name": "stdout",
          "text": [
            "<class 'pandas.core.frame.DataFrame'>\n",
            "Int64Index: 1306 entries, 1 to 1309\n",
            "Data columns (total 7 columns):\n",
            " #   Column       Non-Null Count  Dtype  \n",
            "---  ------       --------------  -----  \n",
            " 0   survived     889 non-null    float64\n",
            " 1   pclass       1306 non-null   int64  \n",
            " 2   sex          1306 non-null   object \n",
            " 3   age          1306 non-null   float64\n",
            " 4   fare         1306 non-null   float64\n",
            " 5   embarked     1306 non-null   object \n",
            " 6   family_size  1306 non-null   int64  \n",
            "dtypes: float64(3), int64(2), object(2)\n",
            "memory usage: 81.6+ KB\n"
          ]
        }
      ]
    },
    {
      "cell_type": "code",
      "metadata": {
        "colab": {
          "base_uri": "https://localhost:8080/",
          "height": 173
        },
        "id": "cqEXB0z5d7WA",
        "outputId": "def16e3c-6977-4624-bf84-d6f4c7fd61fa"
      },
      "source": [
        "df.head(3)"
      ],
      "execution_count": 32,
      "outputs": [
        {
          "output_type": "execute_result",
          "data": {
            "text/html": [
              "<div>\n",
              "<style scoped>\n",
              "    .dataframe tbody tr th:only-of-type {\n",
              "        vertical-align: middle;\n",
              "    }\n",
              "\n",
              "    .dataframe tbody tr th {\n",
              "        vertical-align: top;\n",
              "    }\n",
              "\n",
              "    .dataframe thead th {\n",
              "        text-align: right;\n",
              "    }\n",
              "</style>\n",
              "<table border=\"1\" class=\"dataframe\">\n",
              "  <thead>\n",
              "    <tr style=\"text-align: right;\">\n",
              "      <th></th>\n",
              "      <th>survived</th>\n",
              "      <th>pclass</th>\n",
              "      <th>sex</th>\n",
              "      <th>age</th>\n",
              "      <th>fare</th>\n",
              "      <th>embarked</th>\n",
              "      <th>family_size</th>\n",
              "    </tr>\n",
              "    <tr>\n",
              "      <th>PassengerId</th>\n",
              "      <th></th>\n",
              "      <th></th>\n",
              "      <th></th>\n",
              "      <th></th>\n",
              "      <th></th>\n",
              "      <th></th>\n",
              "      <th></th>\n",
              "    </tr>\n",
              "  </thead>\n",
              "  <tbody>\n",
              "    <tr>\n",
              "      <th>1</th>\n",
              "      <td>0.0</td>\n",
              "      <td>3</td>\n",
              "      <td>male</td>\n",
              "      <td>22.0</td>\n",
              "      <td>7.2500</td>\n",
              "      <td>Southampton</td>\n",
              "      <td>2</td>\n",
              "    </tr>\n",
              "    <tr>\n",
              "      <th>2</th>\n",
              "      <td>1.0</td>\n",
              "      <td>1</td>\n",
              "      <td>female</td>\n",
              "      <td>38.0</td>\n",
              "      <td>71.2833</td>\n",
              "      <td>Cherbough</td>\n",
              "      <td>2</td>\n",
              "    </tr>\n",
              "    <tr>\n",
              "      <th>3</th>\n",
              "      <td>1.0</td>\n",
              "      <td>3</td>\n",
              "      <td>female</td>\n",
              "      <td>26.0</td>\n",
              "      <td>7.9250</td>\n",
              "      <td>Southampton</td>\n",
              "      <td>1</td>\n",
              "    </tr>\n",
              "  </tbody>\n",
              "</table>\n",
              "</div>"
            ],
            "text/plain": [
              "             survived  pclass     sex   age     fare     embarked  family_size\n",
              "PassengerId                                                                   \n",
              "1                 0.0       3    male  22.0   7.2500  Southampton            2\n",
              "2                 1.0       1  female  38.0  71.2833    Cherbough            2\n",
              "3                 1.0       3  female  26.0   7.9250  Southampton            1"
            ]
          },
          "metadata": {},
          "execution_count": 32
        }
      ]
    },
    {
      "cell_type": "code",
      "metadata": {
        "colab": {
          "base_uri": "https://localhost:8080/"
        },
        "id": "cdg_e3QRZ_4p",
        "outputId": "eaf7d99a-b46d-4fba-8260-030982b402b1"
      },
      "source": [
        "#Impute null values in survived column\n",
        "df['survived'] = df['survived'].fillna(0)\n",
        "\n",
        "df.isnull().sum()"
      ],
      "execution_count": 33,
      "outputs": [
        {
          "output_type": "execute_result",
          "data": {
            "text/plain": [
              "survived       0\n",
              "pclass         0\n",
              "sex            0\n",
              "age            0\n",
              "fare           0\n",
              "embarked       0\n",
              "family_size    0\n",
              "dtype: int64"
            ]
          },
          "metadata": {},
          "execution_count": 33
        }
      ]
    },
    {
      "cell_type": "code",
      "metadata": {
        "colab": {
          "base_uri": "https://localhost:8080/",
          "height": 241
        },
        "id": "i9iurf0vbAKZ",
        "outputId": "f718b596-f991-426e-8860-783bcfff1d05"
      },
      "source": [
        "#Print all summary of univariate\n",
        "\n",
        "#define our features to summarize\n",
        "df_sum = df[['survived','pclass','age','fare','family_size']]\n",
        "\n",
        "#define function\n",
        "\n",
        "def sum_func(df):\n",
        "  disp_df= pd.DataFrame(columns=['nunique_values','mean','mode','min','25%','50%(median)','75%','100%(max)','std_dev','kurt','skew','count'])\n",
        "\n",
        "  for col in df:\n",
        "    disp_df.loc[col] = [df_sum[col].nunique(), df_sum[col].mean(),df_sum[col].mode().values[0],df_sum[col].min(),df_sum[col].quantile(0.25),df_sum[col].median(),df_sum[col].quantile(0.75),df_sum[col].max(),df_sum[col].std(),df_sum[col].kurt(),df_sum[col].skew(),df_sum[col].count()]\n",
        "  return disp_df\n",
        "\n",
        "sum_func(df_sum)"
      ],
      "execution_count": 34,
      "outputs": [
        {
          "output_type": "execute_result",
          "data": {
            "text/html": [
              "<div>\n",
              "<style scoped>\n",
              "    .dataframe tbody tr th:only-of-type {\n",
              "        vertical-align: middle;\n",
              "    }\n",
              "\n",
              "    .dataframe tbody tr th {\n",
              "        vertical-align: top;\n",
              "    }\n",
              "\n",
              "    .dataframe thead th {\n",
              "        text-align: right;\n",
              "    }\n",
              "</style>\n",
              "<table border=\"1\" class=\"dataframe\">\n",
              "  <thead>\n",
              "    <tr style=\"text-align: right;\">\n",
              "      <th></th>\n",
              "      <th>nunique_values</th>\n",
              "      <th>mean</th>\n",
              "      <th>mode</th>\n",
              "      <th>min</th>\n",
              "      <th>25%</th>\n",
              "      <th>50%(median)</th>\n",
              "      <th>75%</th>\n",
              "      <th>100%(max)</th>\n",
              "      <th>std_dev</th>\n",
              "      <th>kurt</th>\n",
              "      <th>skew</th>\n",
              "      <th>count</th>\n",
              "    </tr>\n",
              "  </thead>\n",
              "  <tbody>\n",
              "    <tr>\n",
              "      <th>survived</th>\n",
              "      <td>2.0</td>\n",
              "      <td>0.260337</td>\n",
              "      <td>0.000000</td>\n",
              "      <td>0.00</td>\n",
              "      <td>0.0000</td>\n",
              "      <td>0.000000</td>\n",
              "      <td>1.000</td>\n",
              "      <td>1.0000</td>\n",
              "      <td>0.438987</td>\n",
              "      <td>-0.805346</td>\n",
              "      <td>1.093567</td>\n",
              "      <td>1306.0</td>\n",
              "    </tr>\n",
              "    <tr>\n",
              "      <th>pclass</th>\n",
              "      <td>3.0</td>\n",
              "      <td>2.296325</td>\n",
              "      <td>3.000000</td>\n",
              "      <td>1.00</td>\n",
              "      <td>2.0000</td>\n",
              "      <td>3.000000</td>\n",
              "      <td>3.000</td>\n",
              "      <td>3.0000</td>\n",
              "      <td>0.837037</td>\n",
              "      <td>-1.309761</td>\n",
              "      <td>-0.601703</td>\n",
              "      <td>1306.0</td>\n",
              "    </tr>\n",
              "    <tr>\n",
              "      <th>age</th>\n",
              "      <td>99.0</td>\n",
              "      <td>29.814249</td>\n",
              "      <td>29.642093</td>\n",
              "      <td>0.17</td>\n",
              "      <td>22.0000</td>\n",
              "      <td>29.642093</td>\n",
              "      <td>35.000</td>\n",
              "      <td>80.0000</td>\n",
              "      <td>12.837757</td>\n",
              "      <td>0.957832</td>\n",
              "      <td>0.454872</td>\n",
              "      <td>1306.0</td>\n",
              "    </tr>\n",
              "    <tr>\n",
              "      <th>fare</th>\n",
              "      <td>280.0</td>\n",
              "      <td>33.223956</td>\n",
              "      <td>8.050000</td>\n",
              "      <td>0.00</td>\n",
              "      <td>7.8958</td>\n",
              "      <td>14.454200</td>\n",
              "      <td>31.275</td>\n",
              "      <td>512.3292</td>\n",
              "      <td>51.765986</td>\n",
              "      <td>27.080437</td>\n",
              "      <td>4.375582</td>\n",
              "      <td>1306.0</td>\n",
              "    </tr>\n",
              "    <tr>\n",
              "      <th>family_size</th>\n",
              "      <td>9.0</td>\n",
              "      <td>1.885911</td>\n",
              "      <td>1.000000</td>\n",
              "      <td>1.00</td>\n",
              "      <td>1.0000</td>\n",
              "      <td>1.000000</td>\n",
              "      <td>2.000</td>\n",
              "      <td>11.0000</td>\n",
              "      <td>1.584891</td>\n",
              "      <td>10.272970</td>\n",
              "      <td>2.849429</td>\n",
              "      <td>1306.0</td>\n",
              "    </tr>\n",
              "  </tbody>\n",
              "</table>\n",
              "</div>"
            ],
            "text/plain": [
              "             nunique_values       mean       mode  ...       kurt      skew   count\n",
              "survived                2.0   0.260337   0.000000  ...  -0.805346  1.093567  1306.0\n",
              "pclass                  3.0   2.296325   3.000000  ...  -1.309761 -0.601703  1306.0\n",
              "age                    99.0  29.814249  29.642093  ...   0.957832  0.454872  1306.0\n",
              "fare                  280.0  33.223956   8.050000  ...  27.080437  4.375582  1306.0\n",
              "family_size             9.0   1.885911   1.000000  ...  10.272970  2.849429  1306.0\n",
              "\n",
              "[5 rows x 12 columns]"
            ]
          },
          "metadata": {},
          "execution_count": 34
        }
      ]
    },
    {
      "cell_type": "markdown",
      "metadata": {
        "id": "6_SwGqtdrMvk"
      },
      "source": [
        "The size of the dataset is 1306.\n",
        "The survived has a mode of 0 suggesting most people did not survive\n",
        "\n",
        "The mean of pclass is almost 3 surgesting most people were of class 3 hence why most dis not survive the median,75% can confirm this.\n",
        "\n",
        "\n"
      ]
    },
    {
      "cell_type": "markdown",
      "metadata": {
        "id": "UXMOrZRssYvj"
      },
      "source": [
        "Plotting"
      ]
    },
    {
      "cell_type": "code",
      "metadata": {
        "colab": {
          "base_uri": "https://localhost:8080/",
          "height": 1000
        },
        "id": "tDfJ4C2KsX0y",
        "outputId": "d5bdee12-18ad-45d2-d762-3aadf078eee5"
      },
      "source": [
        "for i, col in enumerate(df.columns):\n",
        "    plt.figure(i)\n",
        "    sns.countplot(x=col, data=df)"
      ],
      "execution_count": 35,
      "outputs": [
        {
          "output_type": "display_data",
          "data": {
            "image/png": "[encoded data removed]",
            "text/plain": [
              "<Figure size 432x288 with 1 Axes>"
            ]
          },
          "metadata": {
            "needs_background": "light"
          }
        },
        {
          "output_type": "display_data",
          "data": {
            "image/png": "[encoded data removed]",
            "text/plain": [
              "<Figure size 432x288 with 1 Axes>"
            ]
          },
          "metadata": {
            "needs_background": "light"
          }
        },
        {
          "output_type": "display_data",
          "data": {
            "image/png": "[encoded data removed]",
            "text/plain": [
              "<Figure size 432x288 with 1 Axes>"
            ]
          },
          "metadata": {
            "needs_background": "light"
          }
        },
        {
          "output_type": "display_data",
          "data": {
            "image/png": "[encoded data removed]",
            "text/plain": [
              "<Figure size 432x288 with 1 Axes>"
            ]
          },
          "metadata": {
            "needs_background": "light"
          }
        },
        {
          "output_type": "display_data",
          "data": {
            "image/png": "[encoded data removed]",
            "text/plain": [
              "<Figure size 432x288 with 1 Axes>"
            ]
          },
          "metadata": {
            "needs_background": "light"
          }
        },
        {
          "output_type": "display_data",
          "data": {
            "image/png": "[encoded data removed]",
            "text/plain": [
              "<Figure size 432x288 with 1 Axes>"
            ]
          },
          "metadata": {
            "needs_background": "light"
          }
        },
        {
          "output_type": "display_data",
          "data": {
            "image/png": "[encoded data removed]",
            "text/plain": [
              "<Figure size 432x288 with 1 Axes>"
            ]
          },
          "metadata": {
            "needs_background": "light"
          }
        }
      ]
    },
    {
      "cell_type": "markdown",
      "metadata": {
        "id": "uTkuJvc0sy79"
      },
      "source": [
        "observation\n",
        "\n",
        "\n",
        "---\n",
        "\n",
        "\n",
        "Most of the passengers did not survive the crash.\n",
        "\n",
        "The highest number of passengers were from the third class\n",
        "\n",
        "There were more males than females\n",
        "\n",
        "Prefered destination by most passangers were at Southhampton and least was Queenstown\n",
        "\n",
        "Most passangers did not have siblings onboard"
      ]
    },
    {
      "cell_type": "markdown",
      "metadata": {
        "id": "BugEuV0vtfTW"
      },
      "source": [
        "Bivariate Analysis"
      ]
    },
    {
      "cell_type": "code",
      "metadata": {
        "colab": {
          "base_uri": "https://localhost:8080/",
          "height": 295
        },
        "id": "elQPrwaZsntc",
        "outputId": "1c1b5a6b-2caf-4ef5-8ca6-97cd0828a8bc"
      },
      "source": [
        "# Plotting the family size vs destination\n",
        "#\n",
        "df_2 = df.groupby('embarked').mean()\n",
        "\n",
        "sns.barplot(x=df['family_size'], y=df['embarked'], data=df_2)\n",
        "plt.xlabel('Family size rate')\n",
        "plt.ylabel('Embarked')\n",
        "plt.title('Family size in an embarked area')\n",
        "plt.show()"
      ],
      "execution_count": 36,
      "outputs": [
        {
          "output_type": "display_data",
          "data": {
            "image/png": "[encoded data removed]",
            "text/plain": [
              "<Figure size 432x288 with 1 Axes>"
            ]
          },
          "metadata": {
            "needs_background": "light"
          }
        }
      ]
    },
    {
      "cell_type": "markdown",
      "metadata": {
        "id": "AtSxtCQ_t4uL"
      },
      "source": [
        "Southampton had the highest number family members visiting"
      ]
    },
    {
      "cell_type": "code",
      "metadata": {
        "colab": {
          "base_uri": "https://localhost:8080/",
          "height": 295
        },
        "id": "a1KeBNStt4Zb",
        "outputId": "71ece175-9df2-452b-97a3-76af31d839ca"
      },
      "source": [
        "# Plotting the survival rate vs family size\n",
        "#\n",
        "df_3 = df.groupby('survived').count()\n",
        "\n",
        "sns.barplot(x=df['family_size'], y=df['survived'], data=df_3)\n",
        "plt.xlabel('Family size')\n",
        "plt.ylabel('Survival rate')\n",
        "plt.title('Family Size survival rate')\n",
        "plt.show()"
      ],
      "execution_count": 37,
      "outputs": [
        {
          "output_type": "display_data",
          "data": {
            "image/png": "[encoded data removed]",
            "text/plain": [
              "<Figure size 432x288 with 1 Axes>"
            ]
          },
          "metadata": {
            "needs_background": "light"
          }
        }
      ]
    },
    {
      "cell_type": "markdown",
      "metadata": {
        "id": "TqjkhV7zuRll"
      },
      "source": [
        "The highestsurvival rate was for the family with the the size of 4"
      ]
    },
    {
      "cell_type": "markdown",
      "metadata": {
        "id": "pYypw_auujW8"
      },
      "source": [
        "Correlation"
      ]
    },
    {
      "cell_type": "code",
      "metadata": {
        "colab": {
          "base_uri": "https://localhost:8080/",
          "height": 204
        },
        "id": "AK3JoR3ZuX-E",
        "outputId": "443f899e-aaad-4cf7-f8b5-f13d943d78ca"
      },
      "source": [
        "# Check for correlation\n",
        "#\n",
        "correlation = df_sum.corr()\n",
        "correlation"
      ],
      "execution_count": 38,
      "outputs": [
        {
          "output_type": "execute_result",
          "data": {
            "text/html": [
              "<div>\n",
              "<style scoped>\n",
              "    .dataframe tbody tr th:only-of-type {\n",
              "        vertical-align: middle;\n",
              "    }\n",
              "\n",
              "    .dataframe tbody tr th {\n",
              "        vertical-align: top;\n",
              "    }\n",
              "\n",
              "    .dataframe thead th {\n",
              "        text-align: right;\n",
              "    }\n",
              "</style>\n",
              "<table border=\"1\" class=\"dataframe\">\n",
              "  <thead>\n",
              "    <tr style=\"text-align: right;\">\n",
              "      <th></th>\n",
              "      <th>survived</th>\n",
              "      <th>pclass</th>\n",
              "      <th>age</th>\n",
              "      <th>fare</th>\n",
              "      <th>family_size</th>\n",
              "    </tr>\n",
              "  </thead>\n",
              "  <tbody>\n",
              "    <tr>\n",
              "      <th>survived</th>\n",
              "      <td>1.000000</td>\n",
              "      <td>-0.241388</td>\n",
              "      <td>-0.064694</td>\n",
              "      <td>0.171809</td>\n",
              "      <td>0.021797</td>\n",
              "    </tr>\n",
              "    <tr>\n",
              "      <th>pclass</th>\n",
              "      <td>-0.241388</td>\n",
              "      <td>1.000000</td>\n",
              "      <td>-0.366791</td>\n",
              "      <td>-0.557861</td>\n",
              "      <td>0.049186</td>\n",
              "    </tr>\n",
              "    <tr>\n",
              "      <th>age</th>\n",
              "      <td>-0.064694</td>\n",
              "      <td>-0.366791</td>\n",
              "      <td>1.000000</td>\n",
              "      <td>0.170259</td>\n",
              "      <td>-0.195598</td>\n",
              "    </tr>\n",
              "    <tr>\n",
              "      <th>fare</th>\n",
              "      <td>0.171809</td>\n",
              "      <td>-0.557861</td>\n",
              "      <td>0.170259</td>\n",
              "      <td>1.000000</td>\n",
              "      <td>0.227461</td>\n",
              "    </tr>\n",
              "    <tr>\n",
              "      <th>family_size</th>\n",
              "      <td>0.021797</td>\n",
              "      <td>0.049186</td>\n",
              "      <td>-0.195598</td>\n",
              "      <td>0.227461</td>\n",
              "      <td>1.000000</td>\n",
              "    </tr>\n",
              "  </tbody>\n",
              "</table>\n",
              "</div>"
            ],
            "text/plain": [
              "             survived    pclass       age      fare  family_size\n",
              "survived     1.000000 -0.241388 -0.064694  0.171809     0.021797\n",
              "pclass      -0.241388  1.000000 -0.366791 -0.557861     0.049186\n",
              "age         -0.064694 -0.366791  1.000000  0.170259    -0.195598\n",
              "fare         0.171809 -0.557861  0.170259  1.000000     0.227461\n",
              "family_size  0.021797  0.049186 -0.195598  0.227461     1.000000"
            ]
          },
          "metadata": {},
          "execution_count": 38
        }
      ]
    },
    {
      "cell_type": "markdown",
      "metadata": {
        "id": "GGnvT0QWulGF"
      },
      "source": [
        "Heatmap"
      ]
    },
    {
      "cell_type": "code",
      "metadata": {
        "colab": {
          "base_uri": "https://localhost:8080/",
          "height": 613
        },
        "id": "eEBymhHQuhL4",
        "outputId": "f7dfb280-06b9-4ba0-d484-2bcb57c65393"
      },
      "source": [
        "#heatmap\n",
        "plt.figure(figsize = (15,10))\n",
        "sns.heatmap(correlation, xticklabels=correlation.columns, yticklabels=correlation.columns, annot=True)"
      ],
      "execution_count": 39,
      "outputs": [
        {
          "output_type": "execute_result",
          "data": {
            "text/plain": [
              "<matplotlib.axes._subplots.AxesSubplot at 0x7f8209091d90>"
            ]
          },
          "metadata": {},
          "execution_count": 39
        },
        {
          "output_type": "display_data",
          "data": {
            "image/png": "[encoded data removed]",
            "text/plain": [
              "<Figure size 1080x720 with 2 Axes>"
            ]
          },
          "metadata": {
            "needs_background": "light"
          }
        }
      ]
    },
    {
      "cell_type": "markdown",
      "metadata": {
        "id": "TII5s7CcuwF1"
      },
      "source": [
        "The correlation between the columns are not very high"
      ]
    },
    {
      "cell_type": "markdown",
      "metadata": {
        "id": "UjUVXcCOu7gN"
      },
      "source": [
        "Multivariate Analysis"
      ]
    },
    {
      "cell_type": "code",
      "metadata": {
        "colab": {
          "base_uri": "https://localhost:8080/",
          "height": 204
        },
        "id": "Rkmcwu2hu64r",
        "outputId": "906eae6d-cc85-4269-91fb-be65cebbe13a"
      },
      "source": [
        "pd.DataFrame(np.linalg.inv(correlation.values), index = correlation.index, columns=correlation.columns)"
      ],
      "execution_count": 40,
      "outputs": [
        {
          "output_type": "execute_result",
          "data": {
            "text/html": [
              "<div>\n",
              "<style scoped>\n",
              "    .dataframe tbody tr th:only-of-type {\n",
              "        vertical-align: middle;\n",
              "    }\n",
              "\n",
              "    .dataframe tbody tr th {\n",
              "        vertical-align: top;\n",
              "    }\n",
              "\n",
              "    .dataframe thead th {\n",
              "        text-align: right;\n",
              "    }\n",
              "</style>\n",
              "<table border=\"1\" class=\"dataframe\">\n",
              "  <thead>\n",
              "    <tr style=\"text-align: right;\">\n",
              "      <th></th>\n",
              "      <th>survived</th>\n",
              "      <th>pclass</th>\n",
              "      <th>age</th>\n",
              "      <th>fare</th>\n",
              "      <th>family_size</th>\n",
              "    </tr>\n",
              "  </thead>\n",
              "  <tbody>\n",
              "    <tr>\n",
              "      <th>survived</th>\n",
              "      <td>1.095164</td>\n",
              "      <td>0.305121</td>\n",
              "      <td>0.194087</td>\n",
              "      <td>-0.053551</td>\n",
              "      <td>0.011265</td>\n",
              "    </tr>\n",
              "    <tr>\n",
              "      <th>pclass</th>\n",
              "      <td>0.305121</td>\n",
              "      <td>1.754416</td>\n",
              "      <td>0.471468</td>\n",
              "      <td>0.892360</td>\n",
              "      <td>-0.203702</td>\n",
              "    </tr>\n",
              "    <tr>\n",
              "      <th>age</th>\n",
              "      <td>0.194087</td>\n",
              "      <td>0.471468</td>\n",
              "      <td>1.233916</td>\n",
              "      <td>-0.030665</td>\n",
              "      <td>0.220906</td>\n",
              "    </tr>\n",
              "    <tr>\n",
              "      <th>fare</th>\n",
              "      <td>-0.053551</td>\n",
              "      <td>0.892360</td>\n",
              "      <td>-0.030665</td>\n",
              "      <td>1.606431</td>\n",
              "      <td>-0.414123</td>\n",
              "    </tr>\n",
              "    <tr>\n",
              "      <th>family_size</th>\n",
              "      <td>0.011265</td>\n",
              "      <td>-0.203702</td>\n",
              "      <td>0.220906</td>\n",
              "      <td>-0.414123</td>\n",
              "      <td>1.147179</td>\n",
              "    </tr>\n",
              "  </tbody>\n",
              "</table>\n",
              "</div>"
            ],
            "text/plain": [
              "             survived    pclass       age      fare  family_size\n",
              "survived     1.095164  0.305121  0.194087 -0.053551     0.011265\n",
              "pclass       0.305121  1.754416  0.471468  0.892360    -0.203702\n",
              "age          0.194087  0.471468  1.233916 -0.030665     0.220906\n",
              "fare        -0.053551  0.892360 -0.030665  1.606431    -0.414123\n",
              "family_size  0.011265 -0.203702  0.220906 -0.414123     1.147179"
            ]
          },
          "metadata": {},
          "execution_count": 40
        }
      ]
    },
    {
      "cell_type": "markdown",
      "metadata": {
        "id": "pXVLOC82wHud"
      },
      "source": [
        "Modelling"
      ]
    },
    {
      "cell_type": "code",
      "metadata": {
        "colab": {
          "base_uri": "https://localhost:8080/"
        },
        "id": "JrW8fI42v-7s",
        "outputId": "bd246686-9821-48d2-8ff9-c3da257e5935"
      },
      "source": [
        "#Select target and predict variables\n",
        "\n",
        "X = train.drop(['survived'],axis=1)\n",
        "y = train['survived']\n",
        "\n",
        "# One hot encoding our data for the categorical variables\n",
        "X = pd.get_dummies(X, drop_first=True)\n",
        "\n",
        "# Splitting our dataset\n",
        "X_train,X_test,y_train,y_test = train_test_split(X,y,random_state=0,test_size=0.2)\n",
        "\n",
        "# Apply Scaling \n",
        "scaler = StandardScaler()\n",
        "X_train = scaler.fit_transform(X_train)\n",
        "X_test = scaler.fit_transform(X_test)\n",
        "\n",
        "# Fitting the data in a logistic regression\n",
        "regressor = LogisticRegression()\n",
        "regressor.fit(X_train,y_train)\n",
        "\n",
        "# Predicting classification using the test set\n",
        "y_predict = regressor.predict(X_test)\n",
        "\n",
        "# Getting the metrics for the model\n",
        "print(confusion_matrix(y_test,y_predict))\n",
        "print(classification_report(y_test,y_predict))"
      ],
      "execution_count": 41,
      "outputs": [
        {
          "output_type": "stream",
          "name": "stdout",
          "text": [
            "[[85 20]\n",
            " [30 43]]\n",
            "              precision    recall  f1-score   support\n",
            "\n",
            "           0       0.74      0.81      0.77       105\n",
            "           1       0.68      0.59      0.63        73\n",
            "\n",
            "    accuracy                           0.72       178\n",
            "   macro avg       0.71      0.70      0.70       178\n",
            "weighted avg       0.72      0.72      0.72       178\n",
            "\n"
          ]
        }
      ]
    },
    {
      "cell_type": "markdown",
      "metadata": {
        "id": "sXjmD0BJw5yO"
      },
      "source": [
        "f1 score: 77%\n",
        "model accuracy: 72%"
      ]
    },
    {
      "cell_type": "markdown",
      "metadata": {
        "id": "TIc0YMa4xGMV"
      },
      "source": [
        "## K Nearest Neighbours(KNN)"
      ]
    },
    {
      "cell_type": "code",
      "metadata": {
        "colab": {
          "base_uri": "https://localhost:8080/"
        },
        "id": "kBUA1IdHw5js",
        "outputId": "f65e8658-1e91-4aa8-8e15-03983d6e5295"
      },
      "source": [
        "#Define predictor and target variables\n",
        "X = train.drop(['survived'],axis=1)\n",
        "y = train['survived']\n",
        "\n",
        "#Standardize data\n",
        "sc = StandardScaler()\n",
        "X[['age','fare']] = scaler.fit_transform(X[['age','fare']])\n",
        "\n",
        "#Encoding \n",
        "X = pd.get_dummies(X, drop_first=True)\n",
        "\n",
        "#splitting data\n",
        "X_train,X_test,y_train,y_test = train_test_split(X,y,test_size=0.2,random_state=10)\n",
        "\n",
        "#applying KNeighbours\n",
        "classifier = KNeighborsClassifier(n_neighbors=3)\n",
        "classifier.fit(X_train,y_train)"
      ],
      "execution_count": 42,
      "outputs": [
        {
          "output_type": "execute_result",
          "data": {
            "text/plain": [
              "KNeighborsClassifier(algorithm='auto', leaf_size=30, metric='minkowski',\n",
              "                     metric_params=None, n_jobs=None, n_neighbors=3, p=2,\n",
              "                     weights='uniform')"
            ]
          },
          "metadata": {},
          "execution_count": 42
        }
      ]
    },
    {
      "cell_type": "code",
      "metadata": {
        "colab": {
          "base_uri": "https://localhost:8080/"
        },
        "id": "MTiyk-jVyWLl",
        "outputId": "77b1b25d-9817-4dae-e3bd-3124b581f513"
      },
      "source": [
        "# Predict new values using the test set\n",
        "y_pred = classifier.predict(X_test)\n",
        "\n",
        "print(confusion_matrix(y_test,y_pred))\n",
        "print(classification_report(y_test,y_pred))"
      ],
      "execution_count": 43,
      "outputs": [
        {
          "output_type": "stream",
          "name": "stdout",
          "text": [
            "[[100  15]\n",
            " [ 13  50]]\n",
            "              precision    recall  f1-score   support\n",
            "\n",
            "           0       0.88      0.87      0.88       115\n",
            "           1       0.77      0.79      0.78        63\n",
            "\n",
            "    accuracy                           0.84       178\n",
            "   macro avg       0.83      0.83      0.83       178\n",
            "weighted avg       0.84      0.84      0.84       178\n",
            "\n"
          ]
        }
      ]
    },
    {
      "cell_type": "markdown",
      "metadata": {
        "id": "RmIOVmB3yrmR"
      },
      "source": [
        "Precision score: 88%\n",
        "there is a rise from 77%\n",
        "\n",
        "Accuracy score: 84%\n",
        "there is a rise from 72%\n"
      ]
    },
    {
      "cell_type": "markdown",
      "metadata": {
        "id": "UUP4QUyMzJzH"
      },
      "source": [
        "Hyperparameter tuning"
      ]
    },
    {
      "cell_type": "code",
      "metadata": {
        "id": "Zg5l2_MlzMnL"
      },
      "source": [
        "#  Defining the hyper parameters for the Knearest Neighbors Classifier\n",
        "#\n",
        "leaf_size = list(range(1,50))\n",
        "n_neighbors = list(range(1,30))\n",
        "p = [1,2]\n",
        "metric = ['manhattan', 'euclidean', 'minkowski']\n",
        "\n",
        "# Creating a dictionary to store our parameters\n",
        "hyperparameters = dict(leaf_size = leaf_size, n_neighbors = n_neighbors, p=p,metric = metric)\n",
        "\n"
      ],
      "execution_count": 44,
      "outputs": []
    },
    {
      "cell_type": "code",
      "metadata": {
        "id": "Amdx_yFOziUO"
      },
      "source": [
        "#Apply grid search\n",
        "classifier = KNeighborsClassifier()\n",
        "\n",
        "clf = GridSearchCV(classifier, hyperparameters,cv=10)\n"
      ],
      "execution_count": 45,
      "outputs": []
    },
    {
      "cell_type": "code",
      "metadata": {
        "id": "Aiks5g9Lzqib"
      },
      "source": [
        "from sklearn.discriminant_analysis import LinearDiscriminantAnalysis as LDA\n",
        "lda = LDA(n_components=1)\n",
        "X_train = lda.fit_transform(X_train, y_train)\n",
        "X_test = lda.transform(X_test)"
      ],
      "execution_count": 46,
      "outputs": []
    },
    {
      "cell_type": "code",
      "metadata": {
        "colab": {
          "base_uri": "https://localhost:8080/"
        },
        "id": "YQiVfxVkzvtC",
        "outputId": "98230282-7dd9-4e15-953a-034ee6011e67"
      },
      "source": [
        "clf.fit(X_train,y_train)"
      ],
      "execution_count": 47,
      "outputs": [
        {
          "output_type": "execute_result",
          "data": {
            "text/plain": [
              "GridSearchCV(cv=10, error_score=nan,\n",
              "             estimator=KNeighborsClassifier(algorithm='auto', leaf_size=30,\n",
              "                                            metric='minkowski',\n",
              "                                            metric_params=None, n_jobs=None,\n",
              "                                            n_neighbors=5, p=2,\n",
              "                                            weights='uniform'),\n",
              "             iid='deprecated', n_jobs=None,\n",
              "             param_grid={'leaf_size': [1, 2, 3, 4, 5, 6, 7, 8, 9, 10, 11, 12,\n",
              "                                       13, 14, 15, 16, 17, 18, 19, 20, 21, 22,\n",
              "                                       23, 24, 25, 26, 27, 28, 29, 30, ...],\n",
              "                         'metric': ['manhattan', 'euclidean', 'minkowski'],\n",
              "                         'n_neighbors': [1, 2, 3, 4, 5, 6, 7, 8, 9, 10, 11, 12,\n",
              "                                         13, 14, 15, 16, 17, 18, 19, 20, 21, 22,\n",
              "                                         23, 24, 25, 26, 27, 28, 29],\n",
              "                         'p': [1, 2]},\n",
              "             pre_dispatch='2*n_jobs', refit=True, return_train_score=False,\n",
              "             scoring=None, verbose=0)"
            ]
          },
          "metadata": {},
          "execution_count": 47
        }
      ]
    },
    {
      "cell_type": "code",
      "metadata": {
        "colab": {
          "base_uri": "https://localhost:8080/"
        },
        "id": "YkYJJcRozyXr",
        "outputId": "ae2bd4f7-5a1f-4635-e621-ce5207a94da4"
      },
      "source": [
        "clf.best_params_"
      ],
      "execution_count": 48,
      "outputs": [
        {
          "output_type": "execute_result",
          "data": {
            "text/plain": [
              "{'leaf_size': 1, 'metric': 'manhattan', 'n_neighbors': 17, 'p': 1}"
            ]
          },
          "metadata": {},
          "execution_count": 48
        }
      ]
    },
    {
      "cell_type": "code",
      "metadata": {
        "colab": {
          "base_uri": "https://localhost:8080/"
        },
        "id": "uB6Ytatk0mcb",
        "outputId": "d89b5c69-ff26-4b09-9c7f-6639401df91d"
      },
      "source": [
        "classifier = KNeighborsClassifier(leaf_size=1,n_neighbors=18,p=1,metric='manhattan')\n",
        "classifier.fit(X_train,y_train)"
      ],
      "execution_count": 49,
      "outputs": [
        {
          "output_type": "execute_result",
          "data": {
            "text/plain": [
              "KNeighborsClassifier(algorithm='auto', leaf_size=1, metric='manhattan',\n",
              "                     metric_params=None, n_jobs=None, n_neighbors=18, p=1,\n",
              "                     weights='uniform')"
            ]
          },
          "metadata": {},
          "execution_count": 49
        }
      ]
    },
    {
      "cell_type": "code",
      "metadata": {
        "colab": {
          "base_uri": "https://localhost:8080/"
        },
        "id": "6ndJfQil0nBM",
        "outputId": "0d5c0a7c-1de5-454a-96da-1fe942a003d5"
      },
      "source": [
        "#Predicting values using our test set\n",
        "y_predict = classifier.predict(X_test)\n",
        "\n",
        "# Printing out the metrics for assessing the model's perfromance\n",
        "print(confusion_matrix(y_test,y_pred))\n",
        "print(classification_report(y_test,y_pred))"
      ],
      "execution_count": 50,
      "outputs": [
        {
          "output_type": "stream",
          "name": "stdout",
          "text": [
            "[[100  15]\n",
            " [ 13  50]]\n",
            "              precision    recall  f1-score   support\n",
            "\n",
            "           0       0.88      0.87      0.88       115\n",
            "           1       0.77      0.79      0.78        63\n",
            "\n",
            "    accuracy                           0.84       178\n",
            "   macro avg       0.83      0.83      0.83       178\n",
            "weighted avg       0.84      0.84      0.84       178\n",
            "\n"
          ]
        }
      ]
    },
    {
      "cell_type": "code",
      "metadata": {
        "colab": {
          "base_uri": "https://localhost:8080/"
        },
        "id": "kidbxAGn0nKQ",
        "outputId": "b4f6cfb1-1763-4203-ac9a-933bfc120ee2"
      },
      "source": [
        "# Defining the list of test sizes we will use for the assessment\n",
        "#\n",
        "test_size = [0.1, 0.2, 0.3, 0.4, 0.5]\n",
        "\n",
        "# Using a for loop to split the dataset, fit it with the optimal parameters then get the accuracy score.\n",
        "#\n",
        "for test in test_size:\n",
        "    X_train, X_test, y_train, y_test = train_test_split(X, y, test_size = test, random_state = 12)\n",
        "    \n",
        "    # Fitting to the classifier\n",
        "    classifier = KNeighborsClassifier(leaf_size=1,n_neighbors=29,p=1,metric='manhattan')\n",
        "    classifier.fit(X_train, y_train)\n",
        "    \n",
        "    y_pred = classifier.predict(X_test)\n",
        "\n",
        "    print(\"Test size {} has accuracy score:\".format(test), (metrics.accuracy_score(y_test, y_pred)*100))"
      ],
      "execution_count": 51,
      "outputs": [
        {
          "output_type": "stream",
          "name": "stdout",
          "text": [
            "Test size 0.1 has accuracy score: 87.64044943820225\n",
            "Test size 0.2 has accuracy score: 83.14606741573034\n",
            "Test size 0.3 has accuracy score: 82.02247191011236\n",
            "Test size 0.4 has accuracy score: 79.7752808988764\n",
            "Test size 0.5 has accuracy score: 77.07865168539327\n"
          ]
        }
      ]
    },
    {
      "cell_type": "markdown",
      "metadata": {
        "id": "Nfkhi_pf6zy7"
      },
      "source": [
        "A test of 10% has a higher accuraccy"
      ]
    },
    {
      "cell_type": "markdown",
      "metadata": {
        "id": "KyqcD40S7GIr"
      },
      "source": [
        "Challenging the solution"
      ]
    },
    {
      "cell_type": "code",
      "metadata": {
        "id": "mZiOMNLb7IHI"
      },
      "source": [
        "#use random forest\n",
        "X = train.drop(['survived'],axis=1)\n",
        "y = train['survived']\n",
        "\n",
        "# Standardizing\n",
        "scaler = StandardScaler()\n",
        "X[['age','fare']] = scaler.fit_transform(X[['age','fare']])\n",
        "\n",
        "#encoding\n",
        "X = pd.get_dummies(X, drop_first=True)\n",
        "\n",
        "# Splitting our dataset into the test and train \n",
        "X_train,X_test,y_train,y_test = train_test_split(X,y,test_size=0.1,random_state=10)"
      ],
      "execution_count": 53,
      "outputs": []
    },
    {
      "cell_type": "code",
      "metadata": {
        "colab": {
          "base_uri": "https://localhost:8080/"
        },
        "id": "WwgcPgpp7ap-",
        "outputId": "c081b506-c3fa-4e8b-fc11-6576e1c7f29f"
      },
      "source": [
        "# Fitting the model in our data\n",
        "forest  = RandomForestClassifier(n_estimators=100,random_state=42,min_samples_split=5,max_depth=5)\n",
        "forest.fit(X_train,y_train)"
      ],
      "execution_count": 54,
      "outputs": [
        {
          "output_type": "execute_result",
          "data": {
            "text/plain": [
              "RandomForestClassifier(bootstrap=True, ccp_alpha=0.0, class_weight=None,\n",
              "                       criterion='gini', max_depth=5, max_features='auto',\n",
              "                       max_leaf_nodes=None, max_samples=None,\n",
              "                       min_impurity_decrease=0.0, min_impurity_split=None,\n",
              "                       min_samples_leaf=1, min_samples_split=5,\n",
              "                       min_weight_fraction_leaf=0.0, n_estimators=100,\n",
              "                       n_jobs=None, oob_score=False, random_state=42, verbose=0,\n",
              "                       warm_start=False)"
            ]
          },
          "metadata": {},
          "execution_count": 54
        }
      ]
    },
    {
      "cell_type": "code",
      "metadata": {
        "colab": {
          "base_uri": "https://localhost:8080/"
        },
        "id": "5TMSbUA67iE-",
        "outputId": "7a0a0ce6-ffe5-4095-f0ec-2728452d33bd"
      },
      "source": [
        "y_pred = forest.predict(X_test)\n",
        "\n",
        "#metrics\n",
        "print(confusion_matrix(y_test,y_pred))\n",
        "print(classification_report(y_test,y_pred))"
      ],
      "execution_count": 56,
      "outputs": [
        {
          "output_type": "stream",
          "name": "stdout",
          "text": [
            "[[48  6]\n",
            " [13 22]]\n",
            "              precision    recall  f1-score   support\n",
            "\n",
            "           0       0.79      0.89      0.83        54\n",
            "           1       0.79      0.63      0.70        35\n",
            "\n",
            "    accuracy                           0.79        89\n",
            "   macro avg       0.79      0.76      0.77        89\n",
            "weighted avg       0.79      0.79      0.78        89\n",
            "\n"
          ]
        }
      ]
    },
    {
      "cell_type": "markdown",
      "metadata": {
        "id": "b6wwILFQ72SV"
      },
      "source": [
        "our model is okay to use"
      ]
    },
    {
      "cell_type": "markdown",
      "metadata": {
        "id": "H1Vcuku53LU3"
      },
      "source": [
        "Conclusion\n",
        "\n",
        "\n",
        "---\n",
        "\n",
        "\n",
        "We can see that someone from first class, who's female and boarded in Cherbough had a higher chance of survival. Or someonee who fulfills any of those filters had a higher chance of survival as compared to someone who doesn't fit into any of these categories."
      ]
    }
  ]
}